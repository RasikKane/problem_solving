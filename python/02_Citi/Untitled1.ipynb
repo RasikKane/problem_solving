{
 "cells": [
  {
   "cell_type": "code",
   "execution_count": 82,
   "id": "embedded-reason",
   "metadata": {},
   "outputs": [],
   "source": [
    "import pandas as pd\n",
    "import scipy.stats as stats\n",
    "import numpy as np\n",
    "import itertools"
   ]
  },
  {
   "cell_type": "code",
   "execution_count": 99,
   "id": "figured-leadership",
   "metadata": {},
   "outputs": [],
   "source": [
    "def perform_anova(data, sign_level):\n",
    "    dict_result = {}\n",
    "    \n",
    "    #mean\n",
    "    dict_result['means']= data.groupby('treatment').mean().reset_index()\n",
    "    \n",
    "    #f-val\n",
    "    f = {}\n",
    "    treatements = data['treatment'].unique()\n",
    "    for treat in treatements:\n",
    "        f[treat] = list(data['blood_pressure'].loc[data['treatment'] == treat])\n",
    "    dict_result['f_test'] = round(stats.f_oneway(*f.values())[1],5)\n",
    "    \n",
    "    #significance\n",
    "    sc = []\n",
    "    for pair in list(itertools.combinations(treatements, 2)):\n",
    "        p_val = stats.ttest_ind(f[pair[0]],f[pair[1]])[1]\n",
    "        if p_val < sign_level/6 :\n",
    "            sc.append(pair[0]+'&'+pair[1])\n",
    "    \n",
    "    dict_result['sign_coef'] = sc\n",
    "    \n",
    "    return dict_result\n",
    "    \n",
    "    "
   ]
  },
  {
   "cell_type": "code",
   "execution_count": 100,
   "id": "handled-opening",
   "metadata": {},
   "outputs": [
    {
     "data": {
      "text/plain": [
       "{'mean':   treatment  blood_pressure\n",
       " 0         A           106.2\n",
       " 1         B           110.6\n",
       " 2         C           139.4\n",
       " 3         D           151.0,\n",
       " 'f-test': 0.00019,\n",
       " 'sign_coef': ['A&C', 'A&D', 'B&D']}"
      ]
     },
     "execution_count": 100,
     "metadata": {},
     "output_type": "execute_result"
    }
   ],
   "source": [
    "data= pd.read_csv('csv_files/data/example.csv')\n",
    "sign_level = 0.05\n",
    "perform_anova(data, sign_level)"
   ]
  },
  {
   "cell_type": "code",
   "execution_count": null,
   "id": "fuzzy-memorial",
   "metadata": {},
   "outputs": [],
   "source": []
  }
 ],
 "metadata": {
  "kernelspec": {
   "display_name": "torch",
   "language": "python",
   "name": "torch"
  },
  "language_info": {
   "codemirror_mode": {
    "name": "ipython",
    "version": 3
   },
   "file_extension": ".py",
   "mimetype": "text/x-python",
   "name": "python",
   "nbconvert_exporter": "python",
   "pygments_lexer": "ipython3",
   "version": "3.7.9"
  },
  "toc": {
   "base_numbering": 1,
   "nav_menu": {},
   "number_sections": true,
   "sideBar": true,
   "skip_h1_title": false,
   "title_cell": "Table of Contents",
   "title_sidebar": "Contents",
   "toc_cell": false,
   "toc_position": {},
   "toc_section_display": true,
   "toc_window_display": false
  }
 },
 "nbformat": 4,
 "nbformat_minor": 5
}
